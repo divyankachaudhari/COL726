{
 "cells": [
  {
   "cell_type": "code",
   "execution_count": 1,
   "metadata": {},
   "outputs": [],
   "source": [
    "import numpy as np"
   ]
  },
  {
   "cell_type": "code",
   "execution_count": 21,
   "metadata": {},
   "outputs": [],
   "source": [
    "a =[1/3, 1/12]"
   ]
  },
  {
   "cell_type": "code",
   "execution_count": 70,
   "metadata": {},
   "outputs": [],
   "source": [
    "import numpy as np\n",
    "def computeSequence(n):\n",
    "    a = np.empty(n, dtype=float)\n",
    "    if(n>0):\n",
    "        a[0] = 1/3\n",
    "        if(n>1):\n",
    "            a[1] = 1/12\n",
    "            if(n>2):\n",
    "                for i in range(2,n):\n",
    "                    a[i] = ((2.25*(a[i-1])) - (0.5*(a[i-2])))\n",
    "    \n",
    "    return a"
   ]
  },
  {
   "cell_type": "code",
   "execution_count": 71,
   "metadata": {},
   "outputs": [
    {
     "name": "stdout",
     "output_type": "stream",
     "text": [
      "[0.33333333]\n"
     ]
    }
   ],
   "source": [
    "print(computeSequence(1))"
   ]
  },
  {
   "cell_type": "code",
   "execution_count": 72,
   "metadata": {},
   "outputs": [
    {
     "name": "stdout",
     "output_type": "stream",
     "text": [
      "[3.33333333e-01 8.33333333e-02 2.08333333e-02 5.20833333e-03\n",
      " 1.30208333e-03 3.25520833e-04 8.13802083e-05]\n"
     ]
    }
   ],
   "source": [
    "print(computeSequence(7))"
   ]
  },
  {
   "cell_type": "code",
   "execution_count": 90,
   "metadata": {},
   "outputs": [],
   "source": [
    "import numpy as np\n",
    "def computeSequence(n):\n",
    "    a = np.empty(n)\n",
    "    if(n>0):\n",
    "        a[0] = 1/3\n",
    "        if(n>1):\n",
    "            a[1] = 1/12\n",
    "            if(n>2):\n",
    "                for i in range(2,n):\n",
    "                    a[i] = ((2.25*(a[i-1])) - (0.5*(a[i-2])))\n",
    "    \n",
    "    return a"
   ]
  },
  {
   "cell_type": "code",
   "execution_count": 91,
   "metadata": {},
   "outputs": [
    {
     "data": {
      "text/plain": [
       "array([3.33333333e-01, 8.33333333e-02, 2.08333333e-02, 5.20833333e-03,\n",
       "       1.30208333e-03, 3.25520833e-04, 8.13802083e-05, 2.03450521e-05,\n",
       "       5.08626302e-06, 1.27156576e-06, 3.17891442e-07, 7.94728658e-08,\n",
       "       1.98682271e-08, 4.96707809e-09, 1.24181216e-09, 3.10538304e-10,\n",
       "       7.78051063e-11, 1.97923371e-11, 5.63020530e-12, 2.77179338e-12,\n",
       "       3.42143245e-12, 6.31232632e-12, 1.24920180e-11, 2.49508773e-11,\n",
       "       4.98934650e-11, 9.97848576e-11, 1.99569197e-10, 3.99138265e-10,\n",
       "       7.98276497e-10, 1.59655299e-09, 3.19310597e-09, 6.38621194e-09,\n",
       "       1.27724239e-08, 2.55448478e-08, 5.10896955e-08, 1.02179391e-07,\n",
       "       2.04358782e-07, 4.08717564e-07, 8.17435128e-07, 1.63487026e-06,\n",
       "       3.26974051e-06, 6.53948103e-06, 1.30789621e-05, 2.61579241e-05,\n",
       "       5.23158482e-05, 1.04631696e-04, 2.09263393e-04, 4.18526786e-04,\n",
       "       8.37053571e-04, 1.67410714e-03, 3.34821429e-03, 6.69642857e-03,\n",
       "       1.33928571e-02, 2.67857143e-02, 5.35714286e-02, 1.07142857e-01,\n",
       "       2.14285714e-01, 4.28571429e-01, 8.57142857e-01, 1.71428571e+00])"
      ]
     },
     "execution_count": 91,
     "metadata": {},
     "output_type": "execute_result"
    }
   ],
   "source": [
    "computeSequence(60)\n"
   ]
  },
  {
   "cell_type": "code",
   "execution_count": 83,
   "metadata": {},
   "outputs": [],
   "source": [
    "import numpy as np\n",
    "def computeSequence1(n):\n",
    "    a = np.empty(n)\n",
    "    if(n>0):\n",
    "        a[0] = 1\n",
    "        if(n>1):\n",
    "            a[1] = 2\n",
    "            if(n>2):\n",
    "                for i in range(2,n):\n",
    "                    a[i] = i+1\n",
    "    \n",
    "    return a"
   ]
  },
  {
   "cell_type": "code",
   "execution_count": 100,
   "metadata": {},
   "outputs": [],
   "source": [
    "def computer(n):\n",
    "    a = np.empty(n)\n",
    "    for i in range(n):\n",
    "        a[i]= (4**(-i))/3\n",
    "    return a"
   ]
  },
  {
   "cell_type": "code",
   "execution_count": 101,
   "metadata": {},
   "outputs": [
    {
     "data": {
      "image/png": "[encoded data removed]",
      "text/plain": [
       "<Figure size 432x288 with 1 Axes>"
      ]
     },
     "metadata": {
      "needs_background": "light"
     },
     "output_type": "display_data"
    }
   ],
   "source": [
    "import matplotlib.pyplot as plt\n",
    "\n",
    "\n",
    "plt.semilogy(computeSequence1(80), computeSequence(80))\n",
    "plt.semilogy(computeSequence1(80), computer(80))\n",
    "plt.xlabel(\"Value of k\")\n",
    "plt.ylabel(\"x_k\")\n",
    "plt.show()"
   ]
  },
  {
   "cell_type": "code",
   "execution_count": null,
   "metadata": {},
   "outputs": [],
   "source": [
    "\n"
   ]
  }
 ],
 "metadata": {
  "kernelspec": {
   "display_name": "Python 3",
   "language": "python",
   "name": "python3"
  },
  "language_info": {
   "codemirror_mode": {
    "name": "ipython",
    "version": 3
   },
   "file_extension": ".py",
   "mimetype": "text/x-python",
   "name": "python",
   "nbconvert_exporter": "python",
   "pygments_lexer": "ipython3",
   "version": "3.8.5"
  }
 },
 "nbformat": 4,
 "nbformat_minor": 4
}
